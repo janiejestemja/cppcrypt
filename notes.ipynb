{
 "cells": [
  {
   "cell_type": "code",
   "execution_count": 1,
   "id": "27216ca9-96dc-4ecf-a633-29760d303c24",
   "metadata": {},
   "outputs": [],
   "source": [
    "import numpy as np\n",
    "from aes.pyaes import key_expansion, aes_encrypt, aes_decrypt\n",
    "from prim_roots.primitive_roots import is_prime, find_primitive_roots, verify_primitive_root"
   ]
  },
  {
   "cell_type": "code",
   "execution_count": 2,
   "id": "0dfb7925-2503-4de7-9b52-dc801c3ff0eb",
   "metadata": {},
   "outputs": [],
   "source": [
    "key = bytes( [0x00, 0x01, 0x02, 0x03, 0x04, 0x05, 0x06, 0x07, 0x08, 0x09, 0x0a, 0x0b, 0x0c, 0x0d, 0x0e, 0x0f] )"
   ]
  },
  {
   "cell_type": "code",
   "execution_count": 3,
   "id": "ff278510-ae1d-48b7-8738-38b53716e17d",
   "metadata": {},
   "outputs": [],
   "source": [
    "input_state = [\n",
    "    [0x00, 0x44, 0x88, 0xcc],\n",
    "    [0x11, 0x55, 0x99, 0xdd],\n",
    "    [0x22, 0x66, 0xaa, 0xee],\n",
    "    [0x33, 0x77, 0xbb, 0xff],\n",
    "]"
   ]
  },
  {
   "cell_type": "code",
   "execution_count": 4,
   "id": "f17a79e1-d83b-41f3-9a40-f1a74183bac4",
   "metadata": {},
   "outputs": [],
   "source": [
    "def print_state(state, label=\"State\"):\n",
    "\n",
    "    print(f\"{label}: \")\n",
    "    for row in state:\n",
    "        print(\" \".join(f\"{b:02x}\" for b in row))\n",
    "    print()"
   ]
  },
  {
   "cell_type": "code",
   "execution_count": 5,
   "id": "552c232d-dc70-4c41-b9ac-cdfb07f7317b",
   "metadata": {},
   "outputs": [],
   "source": [
    "round_keys = key_expansion(key)"
   ]
  },
  {
   "cell_type": "code",
   "execution_count": 6,
   "id": "e938cf90-46fe-4c4c-8df8-8cff461e13c6",
   "metadata": {},
   "outputs": [
    {
     "name": "stdout",
     "output_type": "stream",
     "text": [
      "Initial State: \n",
      "00 44 88 cc\n",
      "11 55 99 dd\n",
      "22 66 aa ee\n",
      "33 77 bb ff\n",
      "\n"
     ]
    }
   ],
   "source": [
    "print_state(input_state, \"Initial State\")"
   ]
  },
  {
   "cell_type": "code",
   "execution_count": 7,
   "id": "2e078d4e-1c6e-4f26-8bca-742a5f81ebf6",
   "metadata": {},
   "outputs": [],
   "source": [
    "encrypted_state = aes_encrypt(input_state, round_keys)"
   ]
  },
  {
   "cell_type": "code",
   "execution_count": 8,
   "id": "3fd02c9e-3edc-437e-8963-2c2b43a0da61",
   "metadata": {},
   "outputs": [
    {
     "name": "stdout",
     "output_type": "stream",
     "text": [
      "Encrypted State: \n",
      "55 32 ad 57\n",
      "3c f0 81 e4\n",
      "dd b7 50 d7\n",
      "65 28 f8 3a\n",
      "\n"
     ]
    }
   ],
   "source": [
    "print_state(encrypted_state, \"Encrypted State\")"
   ]
  },
  {
   "cell_type": "code",
   "execution_count": 9,
   "id": "8d43d183-a6b6-4ce2-84eb-8a2fbd16597c",
   "metadata": {},
   "outputs": [],
   "source": [
    "decrypted_state = aes_decrypt(encrypted_state, round_keys)"
   ]
  },
  {
   "cell_type": "code",
   "execution_count": 10,
   "id": "990fb04e-d56c-4bfa-a67d-34b9877d0eac",
   "metadata": {},
   "outputs": [
    {
     "name": "stdout",
     "output_type": "stream",
     "text": [
      "Decrypted State: \n",
      "00 44 88 cc\n",
      "11 55 99 dd\n",
      "22 66 aa ee\n",
      "33 77 bb ff\n",
      "\n"
     ]
    }
   ],
   "source": [
    "print_state(decrypted_state, \"Decrypted State\")"
   ]
  },
  {
   "cell_type": "code",
   "execution_count": 11,
   "id": "1e22a102-a3b4-4a35-8a2d-42eb88cb097a",
   "metadata": {},
   "outputs": [
    {
     "data": {
      "text/plain": [
       "[5, 7, 10, 11, 14, 15, 17, 19, 20, 21]"
      ]
     },
     "execution_count": 11,
     "metadata": {},
     "output_type": "execute_result"
    }
   ],
   "source": [
    "find_primitive_roots(23)"
   ]
  },
  {
   "cell_type": "code",
   "execution_count": 12,
   "id": "da7449b9-e0b7-4505-8666-d4ed69fdd7a9",
   "metadata": {},
   "outputs": [
    {
     "data": {
      "text/plain": [
       "True"
      ]
     },
     "execution_count": 12,
     "metadata": {},
     "output_type": "execute_result"
    }
   ],
   "source": [
    "is_prime(23)"
   ]
  },
  {
   "cell_type": "code",
   "execution_count": 13,
   "id": "f576f00b-bf7e-4cf1-b5ea-9b8ae4972aa2",
   "metadata": {},
   "outputs": [
    {
     "data": {
      "text/plain": [
       "True"
      ]
     },
     "execution_count": 13,
     "metadata": {},
     "output_type": "execute_result"
    }
   ],
   "source": [
    "verify_primitive_root(19, 23)"
   ]
  },
  {
   "cell_type": "markdown",
   "id": "e7f6309e-6a79-46c3-8113-766e91f3f918",
   "metadata": {},
   "source": [
    "## Textmanipulation\n",
    "---"
   ]
  },
  {
   "cell_type": "markdown",
   "id": "48c13148-d07c-4fcf-825d-c19b82cde685",
   "metadata": {},
   "source": [
    "Lorem ipsum dolor sit amet, consectetur adipiscing elit, sed do eiusmod tempor incididunt ut labore et dolore magna aliqua. Ut enim ad minim veniam, quis nostrud exercitation ullamco laboris nisi ut aliquip ex ea commodo consequat. Duis aute irure dolor in reprehenderit in voluptate velit esse cillum dolore eu fugiat nulla pariatur. Excepteur sint occaecat cupidatat non proident, sunt in culpa qui officia deserunt mollit anim id est laborum."
   ]
  },
  {
   "cell_type": "code",
   "execution_count": 14,
   "id": "709508a0-5288-40d2-bdb0-dbd1b7f6f286",
   "metadata": {},
   "outputs": [],
   "source": [
    "text = \"Lorem ipsum dolor sit amet, consectetur adipiscing elit, sed do eiusmod tempor incididunt ut labore et dolore magna aliqua. Ut enim ad minim veniam, quis nostrud exercitation ullamco laboris nisi ut aliquip ex ea commodo consequat. Duis aute irure dolor in reprehenderit in voluptate velit esse cillum dolore eu fugiat nulla pariatur. Excepteur sint occaecat cupidatat non proident, sunt in culpa qui officia deserunt mollit anim id est laborum.\""
   ]
  },
  {
   "cell_type": "code",
   "execution_count": 15,
   "id": "8fc4dc19-38ed-4032-a941-d89559732408",
   "metadata": {},
   "outputs": [],
   "source": [
    "const = 16"
   ]
  },
  {
   "cell_type": "code",
   "execution_count": 16,
   "id": "ec73bfb8-14d3-4ed4-99fb-6674877aea0d",
   "metadata": {},
   "outputs": [
    {
     "name": "stdout",
     "output_type": "stream",
     "text": [
      "445\n"
     ]
    }
   ],
   "source": [
    "print(len(text))"
   ]
  },
  {
   "cell_type": "code",
   "execution_count": 17,
   "id": "9b5e5dea-91ff-4d25-a2be-a5f39cc218bc",
   "metadata": {},
   "outputs": [
    {
     "name": "stdout",
     "output_type": "stream",
     "text": [
      "13\n"
     ]
    }
   ],
   "source": [
    "print(len(text) % const)"
   ]
  },
  {
   "cell_type": "code",
   "execution_count": 18,
   "id": "a95d2909-9cd9-4573-beaa-7984775dda28",
   "metadata": {},
   "outputs": [
    {
     "name": "stdout",
     "output_type": "stream",
     "text": [
      "3\n"
     ]
    }
   ],
   "source": [
    "print(const - (len(text) % const))"
   ]
  },
  {
   "cell_type": "code",
   "execution_count": 19,
   "id": "a763446d-3fd6-479f-b5b0-a1f386f43926",
   "metadata": {},
   "outputs": [
    {
     "name": "stdout",
     "output_type": "stream",
     "text": [
      "255\n"
     ]
    }
   ],
   "source": [
    "print(int(0xff))"
   ]
  },
  {
   "cell_type": "markdown",
   "id": "8dd5ec63-73b6-4ba6-9e0c-c94bbd7b16f3",
   "metadata": {},
   "source": [
    "### Cleaning characters to hex of ASCII\n",
    "---"
   ]
  },
  {
   "cell_type": "code",
   "execution_count": 20,
   "id": "719b880f-a052-4125-a5a2-8a891ebe8013",
   "metadata": {},
   "outputs": [],
   "source": [
    "hex_text = []"
   ]
  },
  {
   "cell_type": "code",
   "execution_count": 21,
   "id": "4c8089a9-39e3-42aa-839d-3b46869a24b4",
   "metadata": {},
   "outputs": [],
   "source": [
    "for char in text:\n",
    "    if ord(char) < 0 or ord(char) > 254:\n",
    "        hex_text.append(hex(ord(\"*\")))\n",
    "    else:\n",
    "        hex_text.append(hex(ord(char)))"
   ]
  },
  {
   "cell_type": "code",
   "execution_count": 22,
   "id": "7799dcf5-f69d-4efe-8c62-84080ca085fe",
   "metadata": {},
   "outputs": [],
   "source": [
    "for _ in range(const - (len(text) % const)):\n",
    "    hex_text.append(hex(ord(\" \")))"
   ]
  },
  {
   "cell_type": "code",
   "execution_count": 23,
   "id": "fff27418-3221-4bb1-b9e7-17d2c5aebb29",
   "metadata": {},
   "outputs": [
    {
     "name": "stdout",
     "output_type": "stream",
     "text": [
      "True\n"
     ]
    }
   ],
   "source": [
    "print(len(hex_text) % 16 == 0)"
   ]
  },
  {
   "cell_type": "markdown",
   "id": "46c99c22-90b1-416d-b3ed-0f80b06a36f0",
   "metadata": {},
   "source": [
    "### Restructuring to states\n",
    "---"
   ]
  },
  {
   "cell_type": "code",
   "execution_count": 36,
   "id": "d058a925-9b28-41e2-bfb9-b2f25daea93c",
   "metadata": {},
   "outputs": [],
   "source": [
    "states = []"
   ]
  },
  {
   "cell_type": "code",
   "execution_count": 25,
   "id": "8067b0fe-dd21-430a-a636-19e841b24896",
   "metadata": {},
   "outputs": [],
   "source": [
    "hex_len = len(hex_text)"
   ]
  },
  {
   "cell_type": "code",
   "execution_count": 38,
   "id": "f1bf448f-6458-4ccf-b71f-04474e07bbad",
   "metadata": {},
   "outputs": [],
   "source": [
    "for i in range(0, hex_len, 16):\n",
    "    state = []\n",
    "    for j in range(4):\n",
    "        row = []\n",
    "        for k in range(4):\n",
    "            row.append(hex_text[i + 4 * j + k])\n",
    "        state.append(row)\n",
    "    states.append(state)"
   ]
  },
  {
   "cell_type": "code",
   "execution_count": 39,
   "id": "3eadb33a-92af-438c-a040-2575b4eef6eb",
   "metadata": {},
   "outputs": [
    {
     "name": "stdout",
     "output_type": "stream",
     "text": [
      "28\n"
     ]
    }
   ],
   "source": [
    "print(len(states))"
   ]
  },
  {
   "cell_type": "code",
   "execution_count": 40,
   "id": "19f8a2fe-8b78-486a-81d0-174d05a05c31",
   "metadata": {
    "scrolled": true
   },
   "outputs": [
    {
     "name": "stdout",
     "output_type": "stream",
     "text": [
      "[['0x4c', '0x6f', '0x72', '0x65'], ['0x6d', '0x20', '0x69', '0x70'], ['0x73', '0x75', '0x6d', '0x20'], ['0x64', '0x6f', '0x6c', '0x6f']]\n",
      "[['0x72', '0x20', '0x73', '0x69'], ['0x74', '0x20', '0x61', '0x6d'], ['0x65', '0x74', '0x2c', '0x20'], ['0x63', '0x6f', '0x6e', '0x73']]\n",
      "[['0x65', '0x63', '0x74', '0x65'], ['0x74', '0x75', '0x72', '0x20'], ['0x61', '0x64', '0x69', '0x70'], ['0x69', '0x73', '0x63', '0x69']]\n",
      "[['0x6e', '0x67', '0x20', '0x65'], ['0x6c', '0x69', '0x74', '0x2c'], ['0x20', '0x73', '0x65', '0x64'], ['0x20', '0x64', '0x6f', '0x20']]\n",
      "[['0x65', '0x69', '0x75', '0x73'], ['0x6d', '0x6f', '0x64', '0x20'], ['0x74', '0x65', '0x6d', '0x70'], ['0x6f', '0x72', '0x20', '0x69']]\n",
      "[['0x6e', '0x63', '0x69', '0x64'], ['0x69', '0x64', '0x75', '0x6e'], ['0x74', '0x20', '0x75', '0x74'], ['0x20', '0x6c', '0x61', '0x62']]\n",
      "[['0x6f', '0x72', '0x65', '0x20'], ['0x65', '0x74', '0x20', '0x64'], ['0x6f', '0x6c', '0x6f', '0x72'], ['0x65', '0x20', '0x6d', '0x61']]\n",
      "[['0x67', '0x6e', '0x61', '0x20'], ['0x61', '0x6c', '0x69', '0x71'], ['0x75', '0x61', '0x2e', '0x20'], ['0x55', '0x74', '0x20', '0x65']]\n",
      "[['0x6e', '0x69', '0x6d', '0x20'], ['0x61', '0x64', '0x20', '0x6d'], ['0x69', '0x6e', '0x69', '0x6d'], ['0x20', '0x76', '0x65', '0x6e']]\n",
      "[['0x69', '0x61', '0x6d', '0x2c'], ['0x20', '0x71', '0x75', '0x69'], ['0x73', '0x20', '0x6e', '0x6f'], ['0x73', '0x74', '0x72', '0x75']]\n",
      "[['0x64', '0x20', '0x65', '0x78'], ['0x65', '0x72', '0x63', '0x69'], ['0x74', '0x61', '0x74', '0x69'], ['0x6f', '0x6e', '0x20', '0x75']]\n",
      "[['0x6c', '0x6c', '0x61', '0x6d'], ['0x63', '0x6f', '0x20', '0x6c'], ['0x61', '0x62', '0x6f', '0x72'], ['0x69', '0x73', '0x20', '0x6e']]\n",
      "[['0x69', '0x73', '0x69', '0x20'], ['0x75', '0x74', '0x20', '0x61'], ['0x6c', '0x69', '0x71', '0x75'], ['0x69', '0x70', '0x20', '0x65']]\n",
      "[['0x78', '0x20', '0x65', '0x61'], ['0x20', '0x63', '0x6f', '0x6d'], ['0x6d', '0x6f', '0x64', '0x6f'], ['0x20', '0x63', '0x6f', '0x6e']]\n",
      "[['0x73', '0x65', '0x71', '0x75'], ['0x61', '0x74', '0x2e', '0x20'], ['0x44', '0x75', '0x69', '0x73'], ['0x20', '0x61', '0x75', '0x74']]\n",
      "[['0x65', '0x20', '0x69', '0x72'], ['0x75', '0x72', '0x65', '0x20'], ['0x64', '0x6f', '0x6c', '0x6f'], ['0x72', '0x20', '0x69', '0x6e']]\n",
      "[['0x20', '0x72', '0x65', '0x70'], ['0x72', '0x65', '0x68', '0x65'], ['0x6e', '0x64', '0x65', '0x72'], ['0x69', '0x74', '0x20', '0x69']]\n",
      "[['0x6e', '0x20', '0x76', '0x6f'], ['0x6c', '0x75', '0x70', '0x74'], ['0x61', '0x74', '0x65', '0x20'], ['0x76', '0x65', '0x6c', '0x69']]\n",
      "[['0x74', '0x20', '0x65', '0x73'], ['0x73', '0x65', '0x20', '0x63'], ['0x69', '0x6c', '0x6c', '0x75'], ['0x6d', '0x20', '0x64', '0x6f']]\n",
      "[['0x6c', '0x6f', '0x72', '0x65'], ['0x20', '0x65', '0x75', '0x20'], ['0x66', '0x75', '0x67', '0x69'], ['0x61', '0x74', '0x20', '0x6e']]\n",
      "[['0x75', '0x6c', '0x6c', '0x61'], ['0x20', '0x70', '0x61', '0x72'], ['0x69', '0x61', '0x74', '0x75'], ['0x72', '0x2e', '0x20', '0x45']]\n",
      "[['0x78', '0x63', '0x65', '0x70'], ['0x74', '0x65', '0x75', '0x72'], ['0x20', '0x73', '0x69', '0x6e'], ['0x74', '0x20', '0x6f', '0x63']]\n",
      "[['0x63', '0x61', '0x65', '0x63'], ['0x61', '0x74', '0x20', '0x63'], ['0x75', '0x70', '0x69', '0x64'], ['0x61', '0x74', '0x61', '0x74']]\n",
      "[['0x20', '0x6e', '0x6f', '0x6e'], ['0x20', '0x70', '0x72', '0x6f'], ['0x69', '0x64', '0x65', '0x6e'], ['0x74', '0x2c', '0x20', '0x73']]\n",
      "[['0x75', '0x6e', '0x74', '0x20'], ['0x69', '0x6e', '0x20', '0x63'], ['0x75', '0x6c', '0x70', '0x61'], ['0x20', '0x71', '0x75', '0x69']]\n",
      "[['0x20', '0x6f', '0x66', '0x66'], ['0x69', '0x63', '0x69', '0x61'], ['0x20', '0x64', '0x65', '0x73'], ['0x65', '0x72', '0x75', '0x6e']]\n",
      "[['0x74', '0x20', '0x6d', '0x6f'], ['0x6c', '0x6c', '0x69', '0x74'], ['0x20', '0x61', '0x6e', '0x69'], ['0x6d', '0x20', '0x69', '0x64']]\n",
      "[['0x20', '0x65', '0x73', '0x74'], ['0x20', '0x6c', '0x61', '0x62'], ['0x6f', '0x72', '0x75', '0x6d'], ['0x2e', '0x20', '0x20', '0x20']]\n"
     ]
    }
   ],
   "source": [
    "for state in states:\n",
    "    print(state)"
   ]
  },
  {
   "cell_type": "markdown",
   "id": "6e22d93e-4269-4667-847f-686ece3a485e",
   "metadata": {},
   "source": [
    "### Invert to text\n",
    "---"
   ]
  },
  {
   "cell_type": "code",
   "execution_count": 46,
   "id": "07b85093-fe36-47a7-a118-f69cb60ee946",
   "metadata": {},
   "outputs": [],
   "source": [
    "txt_from_hex = \"\""
   ]
  },
  {
   "cell_type": "code",
   "execution_count": 47,
   "id": "c5978f97-591f-4ff1-808d-c0b5c382b785",
   "metadata": {},
   "outputs": [],
   "source": [
    "for i, state in enumerate(states):\n",
    "    for j, row in enumerate(state):\n",
    "        for k, element in enumerate(row):\n",
    "            txt_from_hex = txt_from_hex + chr(int(states[i][j][k], 16))"
   ]
  },
  {
   "cell_type": "code",
   "execution_count": 48,
   "id": "f5efc5b4-306d-4a0c-a446-bb434757f798",
   "metadata": {},
   "outputs": [
    {
     "name": "stdout",
     "output_type": "stream",
     "text": [
      "Lorem ipsum dolor sit amet, consectetur adipiscing elit, sed do eiusmod tempor incididunt ut labore et dolore magna aliqua. Ut enim ad minim veniam, quis nostrud exercitation ullamco laboris nisi ut aliquip ex ea commodo consequat. Duis aute irure dolor in reprehenderit in voluptate velit esse cillum dolore eu fugiat nulla pariatur. Excepteur sint occaecat cupidatat non proident, sunt in culpa qui officia deserunt mollit anim id est laborum.   \n"
     ]
    }
   ],
   "source": [
    "print(txt_from_hex)"
   ]
  },
  {
   "cell_type": "code",
   "execution_count": null,
   "id": "687a8219-3ac1-41e2-9f22-d9448f4e2212",
   "metadata": {},
   "outputs": [],
   "source": []
  }
 ],
 "metadata": {
  "kernelspec": {
   "display_name": "Python 3 (ipykernel)",
   "language": "python",
   "name": "python3"
  },
  "language_info": {
   "codemirror_mode": {
    "name": "ipython",
    "version": 3
   },
   "file_extension": ".py",
   "mimetype": "text/x-python",
   "name": "python",
   "nbconvert_exporter": "python",
   "pygments_lexer": "ipython3",
   "version": "3.13.2"
  }
 },
 "nbformat": 4,
 "nbformat_minor": 5
}
