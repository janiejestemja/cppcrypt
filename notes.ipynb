{
 "cells": [
  {
   "cell_type": "markdown",
   "id": "37d4eb00-3905-49e5-9118-287d75bc4227",
   "metadata": {},
   "source": [
    "## Example usage\n",
    "---"
   ]
  },
  {
   "cell_type": "code",
   "execution_count": 1,
   "id": "27216ca9-96dc-4ecf-a633-29760d303c24",
   "metadata": {},
   "outputs": [],
   "source": [
    "import numpy as np\n",
    "from aes.pyaes import key_expansion, aes_encrypt, aes_decrypt\n",
    "from prim_roots.primitive_roots import is_prime, find_primitive_roots, verify_primitive_root"
   ]
  },
  {
   "cell_type": "code",
   "execution_count": 2,
   "id": "0dfb7925-2503-4de7-9b52-dc801c3ff0eb",
   "metadata": {},
   "outputs": [],
   "source": [
    "key = bytes( [0x00, 0x01, 0x02, 0x03, 0x04, 0x05, 0x06, 0x07, 0x08, 0x09, 0x0a, 0x0b, 0x0c, 0x0d, 0x0e, 0x0f] )"
   ]
  },
  {
   "cell_type": "code",
   "execution_count": 3,
   "id": "ff278510-ae1d-48b7-8738-38b53716e17d",
   "metadata": {},
   "outputs": [],
   "source": [
    "input_state = [\n",
    "    [0x00, 0x44, 0x88, 0xcc],\n",
    "    [0x11, 0x55, 0x99, 0xdd],\n",
    "    [0x22, 0x66, 0xaa, 0xee],\n",
    "    [0x33, 0x77, 0xbb, 0xff],\n",
    "]"
   ]
  },
  {
   "cell_type": "code",
   "execution_count": 4,
   "id": "f17a79e1-d83b-41f3-9a40-f1a74183bac4",
   "metadata": {},
   "outputs": [],
   "source": [
    "def print_state(state, label=\"State\"):\n",
    "\n",
    "    print(f\"{label}: \")\n",
    "    for row in state:\n",
    "        print(\" \".join(f\"{b:02x}\" for b in row))\n",
    "    print()"
   ]
  },
  {
   "cell_type": "code",
   "execution_count": 5,
   "id": "552c232d-dc70-4c41-b9ac-cdfb07f7317b",
   "metadata": {},
   "outputs": [],
   "source": [
    "round_keys = key_expansion(key)"
   ]
  },
  {
   "cell_type": "code",
   "execution_count": 6,
   "id": "e938cf90-46fe-4c4c-8df8-8cff461e13c6",
   "metadata": {},
   "outputs": [
    {
     "name": "stdout",
     "output_type": "stream",
     "text": [
      "Initial State: \n",
      "00 44 88 cc\n",
      "11 55 99 dd\n",
      "22 66 aa ee\n",
      "33 77 bb ff\n",
      "\n"
     ]
    }
   ],
   "source": [
    "print_state(input_state, \"Initial State\")"
   ]
  },
  {
   "cell_type": "code",
   "execution_count": 7,
   "id": "2e078d4e-1c6e-4f26-8bca-742a5f81ebf6",
   "metadata": {},
   "outputs": [],
   "source": [
    "encrypted_state = aes_encrypt(input_state, round_keys)"
   ]
  },
  {
   "cell_type": "code",
   "execution_count": 8,
   "id": "3fd02c9e-3edc-437e-8963-2c2b43a0da61",
   "metadata": {},
   "outputs": [
    {
     "name": "stdout",
     "output_type": "stream",
     "text": [
      "Encrypted State: \n",
      "ef 4b 5d b5\n",
      "2c fd fc f0\n",
      "7d 9f 8f 3c\n",
      "f8 f4 86 f1\n",
      "\n"
     ]
    }
   ],
   "source": [
    "print_state(encrypted_state, \"Encrypted State\")"
   ]
  },
  {
   "cell_type": "code",
   "execution_count": 9,
   "id": "8d43d183-a6b6-4ce2-84eb-8a2fbd16597c",
   "metadata": {},
   "outputs": [],
   "source": [
    "decrypted_state = aes_decrypt(encrypted_state, round_keys)"
   ]
  },
  {
   "cell_type": "code",
   "execution_count": 10,
   "id": "990fb04e-d56c-4bfa-a67d-34b9877d0eac",
   "metadata": {},
   "outputs": [
    {
     "name": "stdout",
     "output_type": "stream",
     "text": [
      "Decrypted State: \n",
      "00 44 88 cc\n",
      "11 55 99 dd\n",
      "22 66 aa ee\n",
      "33 77 bb ff\n",
      "\n"
     ]
    }
   ],
   "source": [
    "print_state(decrypted_state, \"Decrypted State\")"
   ]
  },
  {
   "cell_type": "code",
   "execution_count": 11,
   "id": "1e22a102-a3b4-4a35-8a2d-42eb88cb097a",
   "metadata": {},
   "outputs": [
    {
     "data": {
      "text/plain": [
       "[5, 7, 10, 11, 14, 15, 17, 19, 20, 21]"
      ]
     },
     "execution_count": 11,
     "metadata": {},
     "output_type": "execute_result"
    }
   ],
   "source": [
    "find_primitive_roots(23)"
   ]
  },
  {
   "cell_type": "code",
   "execution_count": 12,
   "id": "da7449b9-e0b7-4505-8666-d4ed69fdd7a9",
   "metadata": {},
   "outputs": [
    {
     "data": {
      "text/plain": [
       "True"
      ]
     },
     "execution_count": 12,
     "metadata": {},
     "output_type": "execute_result"
    }
   ],
   "source": [
    "is_prime(23)"
   ]
  },
  {
   "cell_type": "code",
   "execution_count": 13,
   "id": "f576f00b-bf7e-4cf1-b5ea-9b8ae4972aa2",
   "metadata": {},
   "outputs": [
    {
     "data": {
      "text/plain": [
       "True"
      ]
     },
     "execution_count": 13,
     "metadata": {},
     "output_type": "execute_result"
    }
   ],
   "source": [
    "verify_primitive_root(19, 23)"
   ]
  },
  {
   "cell_type": "markdown",
   "id": "e7f6309e-6a79-46c3-8113-766e91f3f918",
   "metadata": {},
   "source": [
    "## Textmanipulation\n",
    "---"
   ]
  },
  {
   "cell_type": "markdown",
   "id": "48c13148-d07c-4fcf-825d-c19b82cde685",
   "metadata": {},
   "source": [
    "Lorem ipsum dolor sit amet, consectetur adipiscing elit, sed do eiusmod tempor incididunt ut labore et dolore magna aliqua. Ut enim ad minim veniam, quis nostrud exercitation ullamco laboris nisi ut aliquip ex ea commodo consequat. Duis aute irure dolor in reprehenderit in voluptate velit esse cillum dolore eu fugiat nulla pariatur. Excepteur sint occaecat cupidatat non proident, sunt in culpa qui officia deserunt mollit anim id est laborum."
   ]
  },
  {
   "cell_type": "code",
   "execution_count": 14,
   "id": "709508a0-5288-40d2-bdb0-dbd1b7f6f286",
   "metadata": {},
   "outputs": [],
   "source": [
    "text = \"Lorem ipsum dolor sit amet, consectetur adipiscing elit, sed do eiusmod tempor incididunt ut labore et dolore magna aliqua. Ut enim ad minim veniam, quis nostrud exercitation ullamco laboris nisi ut aliquip ex ea commodo consequat. Duis aute irure dolor in reprehenderit in voluptate velit esse cillum dolore eu fugiat nulla pariatur. Excepteur sint occaecat cupidatat non proident, sunt in culpa qui officia deserunt mollit anim id est laborum.\""
   ]
  },
  {
   "cell_type": "markdown",
   "id": "8dd5ec63-73b6-4ba6-9e0c-c94bbd7b16f3",
   "metadata": {},
   "source": [
    "### Cleaning characters to hex of ASCII\n",
    "---"
   ]
  },
  {
   "cell_type": "code",
   "execution_count": 15,
   "id": "8425ac1c-e85d-46ce-9c1b-3e2af2e635ae",
   "metadata": {},
   "outputs": [],
   "source": [
    "hex_text = []\n",
    "\n",
    "for char in text:\n",
    "    if ord(char) < 0 or ord(char) > 254:\n",
    "        hex_text.append(hex(ord(\"*\")))\n",
    "    else:\n",
    "        hex_text.append(hex(ord(char)))"
   ]
  },
  {
   "cell_type": "markdown",
   "id": "f1d05c08-ac78-4711-a069-2ddf36ae3d5b",
   "metadata": {},
   "source": [
    "### Padding\n",
    "---"
   ]
  },
  {
   "cell_type": "code",
   "execution_count": 16,
   "id": "8fc4dc19-38ed-4032-a941-d89559732408",
   "metadata": {},
   "outputs": [],
   "source": [
    "const = 16"
   ]
  },
  {
   "cell_type": "code",
   "execution_count": 17,
   "id": "ec73bfb8-14d3-4ed4-99fb-6674877aea0d",
   "metadata": {},
   "outputs": [
    {
     "name": "stdout",
     "output_type": "stream",
     "text": [
      "445\n"
     ]
    }
   ],
   "source": [
    "print(len(text))"
   ]
  },
  {
   "cell_type": "code",
   "execution_count": 18,
   "id": "9b5e5dea-91ff-4d25-a2be-a5f39cc218bc",
   "metadata": {},
   "outputs": [
    {
     "name": "stdout",
     "output_type": "stream",
     "text": [
      "13\n"
     ]
    }
   ],
   "source": [
    "print(len(text) % const)"
   ]
  },
  {
   "cell_type": "code",
   "execution_count": 19,
   "id": "a95d2909-9cd9-4573-beaa-7984775dda28",
   "metadata": {},
   "outputs": [
    {
     "name": "stdout",
     "output_type": "stream",
     "text": [
      "3\n"
     ]
    }
   ],
   "source": [
    "print(const - (len(text) % const))"
   ]
  },
  {
   "cell_type": "code",
   "execution_count": 20,
   "id": "7799dcf5-f69d-4efe-8c62-84080ca085fe",
   "metadata": {},
   "outputs": [],
   "source": [
    "for _ in range(const - (len(text) % const)):\n",
    "    hex_text.append(hex(ord(\" \")))"
   ]
  },
  {
   "cell_type": "code",
   "execution_count": 21,
   "id": "fff27418-3221-4bb1-b9e7-17d2c5aebb29",
   "metadata": {},
   "outputs": [
    {
     "name": "stdout",
     "output_type": "stream",
     "text": [
      "True\n"
     ]
    }
   ],
   "source": [
    "print(len(hex_text) % 16 == 0)"
   ]
  },
  {
   "cell_type": "markdown",
   "id": "46c99c22-90b1-416d-b3ed-0f80b06a36f0",
   "metadata": {},
   "source": [
    "### Hextext to States\n",
    "---"
   ]
  },
  {
   "cell_type": "code",
   "execution_count": 22,
   "id": "f3eb83e0-91f4-4652-9bba-29d377c1e8c0",
   "metadata": {},
   "outputs": [],
   "source": [
    "states_from_hex_text = []\n",
    "\n",
    "hex_len = len(hex_text)\n",
    "\n",
    "for i in range(0, hex_len, 16):\n",
    "    state = []\n",
    "    for j in range(4):\n",
    "        row = []\n",
    "        for k in range(4):\n",
    "            row.append(hex_text[i + 4 * j + k])\n",
    "        state.append(row)\n",
    "    states_from_hex_text.append(state)"
   ]
  },
  {
   "cell_type": "markdown",
   "id": "df1d3431-c7bc-4fbd-b7a6-91c3e2aa7b0b",
   "metadata": {},
   "source": [
    "### Str to States\n",
    "---"
   ]
  },
  {
   "cell_type": "code",
   "execution_count": 23,
   "id": "945e5999-6854-4378-98fa-7f18b042cfb9",
   "metadata": {},
   "outputs": [],
   "source": [
    "def str_to_states(text : str) -> list(list(list())):\n",
    "    const = 16\n",
    "    hex_text = []\n",
    "\n",
    "    for char in text:\n",
    "        if ord(char) < 0 or ord(char) > 254:\n",
    "            hex_text.append(hex(ord(\"?\")))\n",
    "        else:\n",
    "            hex_text.append(hex(ord(char)))\n",
    "            \n",
    "    for _ in range(const - (len(text) % const)):\n",
    "        hex_text.append(hex(ord(\" \")))\n",
    "        \n",
    "    states = []\n",
    "\n",
    "    hex_len = len(hex_text)\n",
    "    \n",
    "    for i in range(0, hex_len, 16):\n",
    "        state = []\n",
    "        \n",
    "        for j in range(4):\n",
    "            row = []\n",
    "            \n",
    "            for k in range(4):\n",
    "                row.append(int(hex_text[i + 4 * j + k], 16))\n",
    "            state.append(row)\n",
    "        states.append(state)\n",
    "\n",
    "    return states"
   ]
  },
  {
   "cell_type": "markdown",
   "id": "6fae0b4b-68af-47d1-96aa-c70df17c3e75",
   "metadata": {},
   "source": [
    "#### Example usage\n",
    "---"
   ]
  },
  {
   "cell_type": "code",
   "execution_count": 24,
   "id": "d99c0683-f85e-487c-8062-37336a534cb1",
   "metadata": {},
   "outputs": [],
   "source": [
    "states = str_to_states(text)"
   ]
  },
  {
   "cell_type": "code",
   "execution_count": 25,
   "id": "38407f74-f89b-44ae-b78e-e4a13c8cd93b",
   "metadata": {
    "scrolled": true
   },
   "outputs": [
    {
     "name": "stdout",
     "output_type": "stream",
     "text": [
      "[76, 111, 114, 101]\n",
      "[109, 32, 105, 112]\n",
      "[115, 117, 109, 32]\n",
      "[100, 111, 108, 111]\n",
      "\n",
      "[114, 32, 115, 105]\n",
      "[116, 32, 97, 109]\n",
      "[101, 116, 44, 32]\n",
      "[99, 111, 110, 115]\n",
      "\n",
      "[101, 99, 116, 101]\n",
      "[116, 117, 114, 32]\n",
      "[97, 100, 105, 112]\n",
      "[105, 115, 99, 105]\n",
      "\n",
      "[110, 103, 32, 101]\n",
      "[108, 105, 116, 44]\n",
      "[32, 115, 101, 100]\n",
      "[32, 100, 111, 32]\n",
      "\n",
      "[101, 105, 117, 115]\n",
      "[109, 111, 100, 32]\n",
      "[116, 101, 109, 112]\n",
      "[111, 114, 32, 105]\n",
      "\n",
      "[110, 99, 105, 100]\n",
      "[105, 100, 117, 110]\n",
      "[116, 32, 117, 116]\n",
      "[32, 108, 97, 98]\n",
      "\n",
      "[111, 114, 101, 32]\n",
      "[101, 116, 32, 100]\n",
      "[111, 108, 111, 114]\n",
      "[101, 32, 109, 97]\n",
      "\n",
      "[103, 110, 97, 32]\n",
      "[97, 108, 105, 113]\n",
      "[117, 97, 46, 32]\n",
      "[85, 116, 32, 101]\n",
      "\n",
      "[110, 105, 109, 32]\n",
      "[97, 100, 32, 109]\n",
      "[105, 110, 105, 109]\n",
      "[32, 118, 101, 110]\n",
      "\n",
      "[105, 97, 109, 44]\n",
      "[32, 113, 117, 105]\n",
      "[115, 32, 110, 111]\n",
      "[115, 116, 114, 117]\n",
      "\n",
      "[100, 32, 101, 120]\n",
      "[101, 114, 99, 105]\n",
      "[116, 97, 116, 105]\n",
      "[111, 110, 32, 117]\n",
      "\n",
      "[108, 108, 97, 109]\n",
      "[99, 111, 32, 108]\n",
      "[97, 98, 111, 114]\n",
      "[105, 115, 32, 110]\n",
      "\n",
      "[105, 115, 105, 32]\n",
      "[117, 116, 32, 97]\n",
      "[108, 105, 113, 117]\n",
      "[105, 112, 32, 101]\n",
      "\n",
      "[120, 32, 101, 97]\n",
      "[32, 99, 111, 109]\n",
      "[109, 111, 100, 111]\n",
      "[32, 99, 111, 110]\n",
      "\n",
      "[115, 101, 113, 117]\n",
      "[97, 116, 46, 32]\n",
      "[68, 117, 105, 115]\n",
      "[32, 97, 117, 116]\n",
      "\n",
      "[101, 32, 105, 114]\n",
      "[117, 114, 101, 32]\n",
      "[100, 111, 108, 111]\n",
      "[114, 32, 105, 110]\n",
      "\n",
      "[32, 114, 101, 112]\n",
      "[114, 101, 104, 101]\n",
      "[110, 100, 101, 114]\n",
      "[105, 116, 32, 105]\n",
      "\n",
      "[110, 32, 118, 111]\n",
      "[108, 117, 112, 116]\n",
      "[97, 116, 101, 32]\n",
      "[118, 101, 108, 105]\n",
      "\n",
      "[116, 32, 101, 115]\n",
      "[115, 101, 32, 99]\n",
      "[105, 108, 108, 117]\n",
      "[109, 32, 100, 111]\n",
      "\n",
      "[108, 111, 114, 101]\n",
      "[32, 101, 117, 32]\n",
      "[102, 117, 103, 105]\n",
      "[97, 116, 32, 110]\n",
      "\n",
      "[117, 108, 108, 97]\n",
      "[32, 112, 97, 114]\n",
      "[105, 97, 116, 117]\n",
      "[114, 46, 32, 69]\n",
      "\n",
      "[120, 99, 101, 112]\n",
      "[116, 101, 117, 114]\n",
      "[32, 115, 105, 110]\n",
      "[116, 32, 111, 99]\n",
      "\n",
      "[99, 97, 101, 99]\n",
      "[97, 116, 32, 99]\n",
      "[117, 112, 105, 100]\n",
      "[97, 116, 97, 116]\n",
      "\n",
      "[32, 110, 111, 110]\n",
      "[32, 112, 114, 111]\n",
      "[105, 100, 101, 110]\n",
      "[116, 44, 32, 115]\n",
      "\n",
      "[117, 110, 116, 32]\n",
      "[105, 110, 32, 99]\n",
      "[117, 108, 112, 97]\n",
      "[32, 113, 117, 105]\n",
      "\n",
      "[32, 111, 102, 102]\n",
      "[105, 99, 105, 97]\n",
      "[32, 100, 101, 115]\n",
      "[101, 114, 117, 110]\n",
      "\n",
      "[116, 32, 109, 111]\n",
      "[108, 108, 105, 116]\n",
      "[32, 97, 110, 105]\n",
      "[109, 32, 105, 100]\n",
      "\n",
      "[32, 101, 115, 116]\n",
      "[32, 108, 97, 98]\n",
      "[111, 114, 117, 109]\n",
      "[46, 32, 32, 32]\n",
      "\n"
     ]
    }
   ],
   "source": [
    "for state in states:\n",
    "    for row in state:\n",
    "        print(row)\n",
    "    print()"
   ]
  },
  {
   "cell_type": "markdown",
   "id": "6e22d93e-4269-4667-847f-686ece3a485e",
   "metadata": {},
   "source": [
    "### State to Text\n",
    "---"
   ]
  },
  {
   "cell_type": "code",
   "execution_count": 26,
   "id": "aad74e37-b6ce-46e4-9967-57219f26f86e",
   "metadata": {},
   "outputs": [],
   "source": [
    "def states_to_text(states : list(list(list()))) -> str:\n",
    "    txt_from_hex = \"\"\n",
    "    \n",
    "    for i, state in enumerate(states):\n",
    "        for j, row in enumerate(state):\n",
    "            for k, element in enumerate(row):\n",
    "                txt_from_hex = txt_from_hex + chr(int(states[i][j][k]))\n",
    "\n",
    "    return txt_from_hex"
   ]
  },
  {
   "cell_type": "markdown",
   "id": "c3667a55-fe00-4aac-8356-4b282190132f",
   "metadata": {},
   "source": [
    "#### Example usage\n",
    "---"
   ]
  },
  {
   "cell_type": "code",
   "execution_count": 27,
   "id": "f5efc5b4-306d-4a0c-a446-bb434757f798",
   "metadata": {},
   "outputs": [
    {
     "name": "stdout",
     "output_type": "stream",
     "text": [
      "Lorem ipsum dolor sit amet, consectetur adipiscing elit, sed do eiusmod tempor incididunt ut labore et dolore magna aliqua. Ut enim ad minim veniam, quis nostrud exercitation ullamco laboris nisi ut aliquip ex ea commodo consequat. Duis aute irure dolor in reprehenderit in voluptate velit esse cillum dolore eu fugiat nulla pariatur. Excepteur sint occaecat cupidatat non proident, sunt in culpa qui officia deserunt mollit anim id est laborum.   \n"
     ]
    }
   ],
   "source": [
    "print(states_to_text(states))"
   ]
  },
  {
   "cell_type": "markdown",
   "id": "2abd5194-2001-4d08-ab41-8f81e733700d",
   "metadata": {},
   "source": [
    "## Pipeline sketch\n",
    "---"
   ]
  },
  {
   "cell_type": "markdown",
   "id": "1cd1f0a9-e584-453c-bdb0-772b02f6d7a5",
   "metadata": {},
   "source": [
    "```python\n",
    "key = bytes( [0x00, 0x01, 0x02, 0x03, 0x04, 0x05, 0x06, 0x07, 0x08, 0x09, 0x0a, 0x0b, 0x0c, 0x0d, 0x0e, 0x0f] )\n",
    "round_keys = key_expansion(key)\n",
    "```"
   ]
  },
  {
   "cell_type": "code",
   "execution_count": 28,
   "id": "b02a973a-f42e-4add-aae5-36f9f69f9126",
   "metadata": {
    "scrolled": true
   },
   "outputs": [
    {
     "name": "stdout",
     "output_type": "stream",
     "text": [
      "State: \n",
      "4c 6f 72 65\n",
      "6d 20 69 70\n",
      "73 75 6d 20\n",
      "64 6f 6c 6f\n",
      "\n",
      "State: \n",
      "72 20 73 69\n",
      "74 20 61 6d\n",
      "65 74 2c 20\n",
      "63 6f 6e 73\n",
      "\n",
      "State: \n",
      "65 63 74 65\n",
      "74 75 72 20\n",
      "61 64 69 70\n",
      "69 73 63 69\n",
      "\n",
      "State: \n",
      "6e 67 20 65\n",
      "6c 69 74 2c\n",
      "20 73 65 64\n",
      "20 64 6f 20\n",
      "\n",
      "State: \n",
      "65 69 75 73\n",
      "6d 6f 64 20\n",
      "74 65 6d 70\n",
      "6f 72 20 69\n",
      "\n",
      "State: \n",
      "6e 63 69 64\n",
      "69 64 75 6e\n",
      "74 20 75 74\n",
      "20 6c 61 62\n",
      "\n",
      "State: \n",
      "6f 72 65 20\n",
      "65 74 20 64\n",
      "6f 6c 6f 72\n",
      "65 20 6d 61\n",
      "\n",
      "State: \n",
      "67 6e 61 20\n",
      "61 6c 69 71\n",
      "75 61 2e 20\n",
      "55 74 20 65\n",
      "\n",
      "State: \n",
      "6e 69 6d 20\n",
      "61 64 20 6d\n",
      "69 6e 69 6d\n",
      "20 76 65 6e\n",
      "\n",
      "State: \n",
      "69 61 6d 2c\n",
      "20 71 75 69\n",
      "73 20 6e 6f\n",
      "73 74 72 75\n",
      "\n",
      "State: \n",
      "64 20 65 78\n",
      "65 72 63 69\n",
      "74 61 74 69\n",
      "6f 6e 20 75\n",
      "\n",
      "State: \n",
      "6c 6c 61 6d\n",
      "63 6f 20 6c\n",
      "61 62 6f 72\n",
      "69 73 20 6e\n",
      "\n",
      "State: \n",
      "69 73 69 20\n",
      "75 74 20 61\n",
      "6c 69 71 75\n",
      "69 70 20 65\n",
      "\n",
      "State: \n",
      "78 20 65 61\n",
      "20 63 6f 6d\n",
      "6d 6f 64 6f\n",
      "20 63 6f 6e\n",
      "\n",
      "State: \n",
      "73 65 71 75\n",
      "61 74 2e 20\n",
      "44 75 69 73\n",
      "20 61 75 74\n",
      "\n",
      "State: \n",
      "65 20 69 72\n",
      "75 72 65 20\n",
      "64 6f 6c 6f\n",
      "72 20 69 6e\n",
      "\n",
      "State: \n",
      "20 72 65 70\n",
      "72 65 68 65\n",
      "6e 64 65 72\n",
      "69 74 20 69\n",
      "\n",
      "State: \n",
      "6e 20 76 6f\n",
      "6c 75 70 74\n",
      "61 74 65 20\n",
      "76 65 6c 69\n",
      "\n",
      "State: \n",
      "74 20 65 73\n",
      "73 65 20 63\n",
      "69 6c 6c 75\n",
      "6d 20 64 6f\n",
      "\n",
      "State: \n",
      "6c 6f 72 65\n",
      "20 65 75 20\n",
      "66 75 67 69\n",
      "61 74 20 6e\n",
      "\n",
      "State: \n",
      "75 6c 6c 61\n",
      "20 70 61 72\n",
      "69 61 74 75\n",
      "72 2e 20 45\n",
      "\n",
      "State: \n",
      "78 63 65 70\n",
      "74 65 75 72\n",
      "20 73 69 6e\n",
      "74 20 6f 63\n",
      "\n",
      "State: \n",
      "63 61 65 63\n",
      "61 74 20 63\n",
      "75 70 69 64\n",
      "61 74 61 74\n",
      "\n",
      "State: \n",
      "20 6e 6f 6e\n",
      "20 70 72 6f\n",
      "69 64 65 6e\n",
      "74 2c 20 73\n",
      "\n",
      "State: \n",
      "75 6e 74 20\n",
      "69 6e 20 63\n",
      "75 6c 70 61\n",
      "20 71 75 69\n",
      "\n",
      "State: \n",
      "20 6f 66 66\n",
      "69 63 69 61\n",
      "20 64 65 73\n",
      "65 72 75 6e\n",
      "\n",
      "State: \n",
      "74 20 6d 6f\n",
      "6c 6c 69 74\n",
      "20 61 6e 69\n",
      "6d 20 69 64\n",
      "\n",
      "State: \n",
      "20 65 73 74\n",
      "20 6c 61 62\n",
      "6f 72 75 6d\n",
      "2e 20 20 20\n",
      "\n"
     ]
    }
   ],
   "source": [
    "for state in states:\n",
    "    print_state(state)"
   ]
  },
  {
   "cell_type": "code",
   "execution_count": 29,
   "id": "6dd64f4a-6aa5-4a4b-84af-82583f793a4c",
   "metadata": {},
   "outputs": [],
   "source": [
    "cipherstates = [aes_encrypt(state, round_keys) for state in states]"
   ]
  },
  {
   "cell_type": "code",
   "execution_count": 30,
   "id": "2fef3469-589a-4715-8008-228514870a15",
   "metadata": {
    "scrolled": true
   },
   "outputs": [
    {
     "name": "stdout",
     "output_type": "stream",
     "text": [
      "State: \n",
      "8f 8e 8d ab\n",
      "38 e1 9d f3\n",
      "2a 3a 62 85\n",
      "5e 12 bd bc\n",
      "\n",
      "State: \n",
      "84 8d 1d 45\n",
      "0a 9e f4 21\n",
      "5c 9f eb d3\n",
      "00 c5 b0 36\n",
      "\n",
      "State: \n",
      "42 32 da 66\n",
      "ae bb 0f 8f\n",
      "ff be 37 83\n",
      "8e 72 a8 94\n",
      "\n",
      "State: \n",
      "c7 0e 15 81\n",
      "0b a7 38 c7\n",
      "e6 75 e1 5e\n",
      "23 ae 3b 74\n",
      "\n",
      "State: \n",
      "fa bf 75 21\n",
      "b2 89 5c 99\n",
      "de 94 7d e3\n",
      "98 e7 db a1\n",
      "\n",
      "State: \n",
      "42 7b 78 25\n",
      "c0 b4 34 89\n",
      "7b a4 48 4a\n",
      "de 1b 11 ec\n",
      "\n",
      "State: \n",
      "c9 f2 32 17\n",
      "68 8f a2 d1\n",
      "2f 97 00 e0\n",
      "f2 1a 21 ad\n",
      "\n",
      "State: \n",
      "d4 41 f7 bf\n",
      "9c a3 94 d0\n",
      "b2 d9 36 53\n",
      "6b c7 56 a2\n",
      "\n",
      "State: \n",
      "1a a8 f0 98\n",
      "f8 0f a3 72\n",
      "15 72 5b cc\n",
      "2a 88 50 cc\n",
      "\n",
      "State: \n",
      "b2 7e 17 62\n",
      "0b 30 2c f0\n",
      "eb 83 a4 7a\n",
      "53 74 52 b1\n",
      "\n",
      "State: \n",
      "ad 7c 89 7c\n",
      "f2 04 4a 06\n",
      "70 61 d5 ee\n",
      "97 b6 81 46\n",
      "\n",
      "State: \n",
      "a7 86 74 52\n",
      "1e 89 39 a7\n",
      "91 6e d0 50\n",
      "9e a5 4a 6b\n",
      "\n",
      "State: \n",
      "69 e6 b9 5f\n",
      "86 52 62 54\n",
      "e2 89 e1 63\n",
      "e3 97 11 ae\n",
      "\n",
      "State: \n",
      "8e bb bc 80\n",
      "48 94 9a 18\n",
      "86 29 e0 7d\n",
      "3f cf 11 ba\n",
      "\n",
      "State: \n",
      "6a b1 66 17\n",
      "71 c4 a9 d1\n",
      "36 78 17 6d\n",
      "c9 40 c6 49\n",
      "\n",
      "State: \n",
      "3b 01 78 5b\n",
      "e1 42 78 40\n",
      "28 d2 ed cc\n",
      "c5 89 52 35\n",
      "\n",
      "State: \n",
      "51 37 3e 92\n",
      "a5 2a 74 95\n",
      "aa 18 4c c0\n",
      "c4 58 dc 5f\n",
      "\n",
      "State: \n",
      "a3 9b 64 75\n",
      "2d 13 d6 1e\n",
      "4f 5e 25 23\n",
      "b6 34 9a 9b\n",
      "\n",
      "State: \n",
      "fb d7 ba 11\n",
      "bc b7 47 2d\n",
      "86 7f 89 74\n",
      "8e 18 91 eb\n",
      "\n",
      "State: \n",
      "48 aa b0 1b\n",
      "95 5c 80 98\n",
      "c5 53 c4 ef\n",
      "04 af 85 51\n",
      "\n",
      "State: \n",
      "c1 c1 2a 54\n",
      "ca 60 b1 1a\n",
      "f2 66 92 8e\n",
      "87 4f 96 14\n",
      "\n",
      "State: \n",
      "dc 25 1c 0d\n",
      "78 57 73 96\n",
      "6b 30 79 20\n",
      "02 0c 2e 91\n",
      "\n",
      "State: \n",
      "8d 53 e9 83\n",
      "15 24 1c 37\n",
      "05 e7 bf 8a\n",
      "66 fb 0a d1\n",
      "\n",
      "State: \n",
      "a8 5f 49 0b\n",
      "c8 d0 31 80\n",
      "20 e0 a1 0b\n",
      "9a bb 4e 43\n",
      "\n",
      "State: \n",
      "2c 67 eb 19\n",
      "a4 a6 56 8a\n",
      "01 c4 2f 86\n",
      "72 9e ed 90\n",
      "\n",
      "State: \n",
      "de ef 8c 5e\n",
      "c0 56 ea 4f\n",
      "82 1d 0f 80\n",
      "25 92 5e 80\n",
      "\n",
      "State: \n",
      "a7 33 1f 88\n",
      "fd ec 41 b3\n",
      "41 d2 27 f2\n",
      "f9 50 16 24\n",
      "\n",
      "State: \n",
      "df 97 87 59\n",
      "65 58 cf 1d\n",
      "df f8 d6 f1\n",
      "5b 0e 8b 9b\n",
      "\n"
     ]
    }
   ],
   "source": [
    "for state in cipherstates:\n",
    "    print_state(state)"
   ]
  },
  {
   "cell_type": "code",
   "execution_count": 31,
   "id": "79d39d91-81c6-4b45-8f2e-b18c592ec0ba",
   "metadata": {},
   "outputs": [],
   "source": [
    "decipheredstates = [aes_decrypt(state, round_keys) for state in cipherstates]"
   ]
  },
  {
   "cell_type": "code",
   "execution_count": 32,
   "id": "29a9eeea-18ac-4d89-8b3c-a18349cb7bd8",
   "metadata": {
    "scrolled": true
   },
   "outputs": [
    {
     "name": "stdout",
     "output_type": "stream",
     "text": [
      "State: \n",
      "4c 6f 72 65\n",
      "6d 20 69 70\n",
      "73 75 6d 20\n",
      "64 6f 6c 6f\n",
      "\n",
      "State: \n",
      "72 20 73 69\n",
      "74 20 61 6d\n",
      "65 74 2c 20\n",
      "63 6f 6e 73\n",
      "\n",
      "State: \n",
      "65 63 74 65\n",
      "74 75 72 20\n",
      "61 64 69 70\n",
      "69 73 63 69\n",
      "\n",
      "State: \n",
      "6e 67 20 65\n",
      "6c 69 74 2c\n",
      "20 73 65 64\n",
      "20 64 6f 20\n",
      "\n",
      "State: \n",
      "65 69 75 73\n",
      "6d 6f 64 20\n",
      "74 65 6d 70\n",
      "6f 72 20 69\n",
      "\n",
      "State: \n",
      "6e 63 69 64\n",
      "69 64 75 6e\n",
      "74 20 75 74\n",
      "20 6c 61 62\n",
      "\n",
      "State: \n",
      "6f 72 65 20\n",
      "65 74 20 64\n",
      "6f 6c 6f 72\n",
      "65 20 6d 61\n",
      "\n",
      "State: \n",
      "67 6e 61 20\n",
      "61 6c 69 71\n",
      "75 61 2e 20\n",
      "55 74 20 65\n",
      "\n",
      "State: \n",
      "6e 69 6d 20\n",
      "61 64 20 6d\n",
      "69 6e 69 6d\n",
      "20 76 65 6e\n",
      "\n",
      "State: \n",
      "69 61 6d 2c\n",
      "20 71 75 69\n",
      "73 20 6e 6f\n",
      "73 74 72 75\n",
      "\n",
      "State: \n",
      "64 20 65 78\n",
      "65 72 63 69\n",
      "74 61 74 69\n",
      "6f 6e 20 75\n",
      "\n",
      "State: \n",
      "6c 6c 61 6d\n",
      "63 6f 20 6c\n",
      "61 62 6f 72\n",
      "69 73 20 6e\n",
      "\n",
      "State: \n",
      "69 73 69 20\n",
      "75 74 20 61\n",
      "6c 69 71 75\n",
      "69 70 20 65\n",
      "\n",
      "State: \n",
      "78 20 65 61\n",
      "20 63 6f 6d\n",
      "6d 6f 64 6f\n",
      "20 63 6f 6e\n",
      "\n",
      "State: \n",
      "73 65 71 75\n",
      "61 74 2e 20\n",
      "44 75 69 73\n",
      "20 61 75 74\n",
      "\n",
      "State: \n",
      "65 20 69 72\n",
      "75 72 65 20\n",
      "64 6f 6c 6f\n",
      "72 20 69 6e\n",
      "\n",
      "State: \n",
      "20 72 65 70\n",
      "72 65 68 65\n",
      "6e 64 65 72\n",
      "69 74 20 69\n",
      "\n",
      "State: \n",
      "6e 20 76 6f\n",
      "6c 75 70 74\n",
      "61 74 65 20\n",
      "76 65 6c 69\n",
      "\n",
      "State: \n",
      "74 20 65 73\n",
      "73 65 20 63\n",
      "69 6c 6c 75\n",
      "6d 20 64 6f\n",
      "\n",
      "State: \n",
      "6c 6f 72 65\n",
      "20 65 75 20\n",
      "66 75 67 69\n",
      "61 74 20 6e\n",
      "\n",
      "State: \n",
      "75 6c 6c 61\n",
      "20 70 61 72\n",
      "69 61 74 75\n",
      "72 2e 20 45\n",
      "\n",
      "State: \n",
      "78 63 65 70\n",
      "74 65 75 72\n",
      "20 73 69 6e\n",
      "74 20 6f 63\n",
      "\n",
      "State: \n",
      "63 61 65 63\n",
      "61 74 20 63\n",
      "75 70 69 64\n",
      "61 74 61 74\n",
      "\n",
      "State: \n",
      "20 6e 6f 6e\n",
      "20 70 72 6f\n",
      "69 64 65 6e\n",
      "74 2c 20 73\n",
      "\n",
      "State: \n",
      "75 6e 74 20\n",
      "69 6e 20 63\n",
      "75 6c 70 61\n",
      "20 71 75 69\n",
      "\n",
      "State: \n",
      "20 6f 66 66\n",
      "69 63 69 61\n",
      "20 64 65 73\n",
      "65 72 75 6e\n",
      "\n",
      "State: \n",
      "74 20 6d 6f\n",
      "6c 6c 69 74\n",
      "20 61 6e 69\n",
      "6d 20 69 64\n",
      "\n",
      "State: \n",
      "20 65 73 74\n",
      "20 6c 61 62\n",
      "6f 72 75 6d\n",
      "2e 20 20 20\n",
      "\n"
     ]
    }
   ],
   "source": [
    "for state in decipheredstates:\n",
    "    print_state(state)"
   ]
  },
  {
   "cell_type": "code",
   "execution_count": 33,
   "id": "e995f545-79b0-42b2-8006-b43c98cda018",
   "metadata": {},
   "outputs": [
    {
     "name": "stdout",
     "output_type": "stream",
     "text": [
      "Lorem ipsum dolor sit amet, consectetur adipiscing elit, sed do eiusmod tempor incididunt ut labore et dolore magna aliqua. Ut enim ad minim veniam, quis nostrud exercitation ullamco laboris nisi ut aliquip ex ea commodo consequat. Duis aute irure dolor in reprehenderit in voluptate velit esse cillum dolore eu fugiat nulla pariatur. Excepteur sint occaecat cupidatat non proident, sunt in culpa qui officia deserunt mollit anim id est laborum.   \n"
     ]
    }
   ],
   "source": [
    "print(states_to_text(decipheredstates))"
   ]
  },
  {
   "cell_type": "markdown",
   "id": "6323b052-32ca-42fd-b82c-d72a55272a78",
   "metadata": {},
   "source": [
    "## Saving to txt\n",
    "---"
   ]
  },
  {
   "cell_type": "code",
   "execution_count": 34,
   "id": "44b867dc-98b2-4eae-8ed4-e5826f8094f2",
   "metadata": {},
   "outputs": [],
   "source": [
    "with open(\"crypt.txt\", \"w\") as f:\n",
    "    for state in cipherstates:\n",
    "        for row in state:\n",
    "            new_row = \"\"\n",
    "            for ele in row:\n",
    "                new_row += str(ele)\n",
    "                new_row += \", \"\n",
    "\n",
    "            new_row += \"\\n\"\n",
    "\n",
    "            f.write(new_row)"
   ]
  },
  {
   "cell_type": "markdown",
   "id": "05791944-ec29-408f-82c5-62bb36b34f7c",
   "metadata": {},
   "source": [
    "## Reading from txt\n",
    "---"
   ]
  },
  {
   "cell_type": "code",
   "execution_count": 35,
   "id": "02493b00-b79f-4e23-9d0a-5d77f63c0a41",
   "metadata": {},
   "outputs": [],
   "source": [
    "cipherstates_from_text = []\n",
    "with open(\"crypt.txt\") as f:\n",
    "    reader = f.readlines()\n",
    "    cipherstate = []\n",
    "    for i, line in enumerate(reader):\n",
    "        if i > 0 and i % 4 == 0:\n",
    "            cipherstates_from_text.append(cipherstate)\n",
    "            cipherstate = []\n",
    "        row = [int(ele.strip()) for ele in line.split(\",\") if ele.strip() != \"\"]\n",
    "        cipherstate.append(row)     "
   ]
  },
  {
   "cell_type": "code",
   "execution_count": 36,
   "id": "4638d35d-46a1-40b0-b33a-2adfc53b512c",
   "metadata": {
    "scrolled": true
   },
   "outputs": [
    {
     "name": "stdout",
     "output_type": "stream",
     "text": [
      "State: \n",
      "8f 8e 8d ab\n",
      "38 e1 9d f3\n",
      "2a 3a 62 85\n",
      "5e 12 bd bc\n",
      "\n",
      "State: \n",
      "84 8d 1d 45\n",
      "0a 9e f4 21\n",
      "5c 9f eb d3\n",
      "00 c5 b0 36\n",
      "\n",
      "State: \n",
      "42 32 da 66\n",
      "ae bb 0f 8f\n",
      "ff be 37 83\n",
      "8e 72 a8 94\n",
      "\n",
      "State: \n",
      "c7 0e 15 81\n",
      "0b a7 38 c7\n",
      "e6 75 e1 5e\n",
      "23 ae 3b 74\n",
      "\n",
      "State: \n",
      "fa bf 75 21\n",
      "b2 89 5c 99\n",
      "de 94 7d e3\n",
      "98 e7 db a1\n",
      "\n",
      "State: \n",
      "42 7b 78 25\n",
      "c0 b4 34 89\n",
      "7b a4 48 4a\n",
      "de 1b 11 ec\n",
      "\n",
      "State: \n",
      "c9 f2 32 17\n",
      "68 8f a2 d1\n",
      "2f 97 00 e0\n",
      "f2 1a 21 ad\n",
      "\n",
      "State: \n",
      "d4 41 f7 bf\n",
      "9c a3 94 d0\n",
      "b2 d9 36 53\n",
      "6b c7 56 a2\n",
      "\n",
      "State: \n",
      "1a a8 f0 98\n",
      "f8 0f a3 72\n",
      "15 72 5b cc\n",
      "2a 88 50 cc\n",
      "\n",
      "State: \n",
      "b2 7e 17 62\n",
      "0b 30 2c f0\n",
      "eb 83 a4 7a\n",
      "53 74 52 b1\n",
      "\n",
      "State: \n",
      "ad 7c 89 7c\n",
      "f2 04 4a 06\n",
      "70 61 d5 ee\n",
      "97 b6 81 46\n",
      "\n",
      "State: \n",
      "a7 86 74 52\n",
      "1e 89 39 a7\n",
      "91 6e d0 50\n",
      "9e a5 4a 6b\n",
      "\n",
      "State: \n",
      "69 e6 b9 5f\n",
      "86 52 62 54\n",
      "e2 89 e1 63\n",
      "e3 97 11 ae\n",
      "\n",
      "State: \n",
      "8e bb bc 80\n",
      "48 94 9a 18\n",
      "86 29 e0 7d\n",
      "3f cf 11 ba\n",
      "\n",
      "State: \n",
      "6a b1 66 17\n",
      "71 c4 a9 d1\n",
      "36 78 17 6d\n",
      "c9 40 c6 49\n",
      "\n",
      "State: \n",
      "3b 01 78 5b\n",
      "e1 42 78 40\n",
      "28 d2 ed cc\n",
      "c5 89 52 35\n",
      "\n",
      "State: \n",
      "51 37 3e 92\n",
      "a5 2a 74 95\n",
      "aa 18 4c c0\n",
      "c4 58 dc 5f\n",
      "\n",
      "State: \n",
      "a3 9b 64 75\n",
      "2d 13 d6 1e\n",
      "4f 5e 25 23\n",
      "b6 34 9a 9b\n",
      "\n",
      "State: \n",
      "fb d7 ba 11\n",
      "bc b7 47 2d\n",
      "86 7f 89 74\n",
      "8e 18 91 eb\n",
      "\n",
      "State: \n",
      "48 aa b0 1b\n",
      "95 5c 80 98\n",
      "c5 53 c4 ef\n",
      "04 af 85 51\n",
      "\n",
      "State: \n",
      "c1 c1 2a 54\n",
      "ca 60 b1 1a\n",
      "f2 66 92 8e\n",
      "87 4f 96 14\n",
      "\n",
      "State: \n",
      "dc 25 1c 0d\n",
      "78 57 73 96\n",
      "6b 30 79 20\n",
      "02 0c 2e 91\n",
      "\n",
      "State: \n",
      "8d 53 e9 83\n",
      "15 24 1c 37\n",
      "05 e7 bf 8a\n",
      "66 fb 0a d1\n",
      "\n",
      "State: \n",
      "a8 5f 49 0b\n",
      "c8 d0 31 80\n",
      "20 e0 a1 0b\n",
      "9a bb 4e 43\n",
      "\n",
      "State: \n",
      "2c 67 eb 19\n",
      "a4 a6 56 8a\n",
      "01 c4 2f 86\n",
      "72 9e ed 90\n",
      "\n",
      "State: \n",
      "de ef 8c 5e\n",
      "c0 56 ea 4f\n",
      "82 1d 0f 80\n",
      "25 92 5e 80\n",
      "\n",
      "State: \n",
      "a7 33 1f 88\n",
      "fd ec 41 b3\n",
      "41 d2 27 f2\n",
      "f9 50 16 24\n",
      "\n",
      "State: \n",
      "df 97 87 59\n",
      "65 58 cf 1d\n",
      "df f8 d6 f1\n",
      "5b 0e 8b 9b\n",
      "\n"
     ]
    }
   ],
   "source": [
    "for state in cipherstates:\n",
    "    print_state(state)"
   ]
  },
  {
   "cell_type": "code",
   "execution_count": 37,
   "id": "7e7fd90a-47de-43d2-b3e0-a5ca5120bed2",
   "metadata": {},
   "outputs": [],
   "source": [
    "deciphered_from_text = [aes_decrypt(state, round_keys) for state in cipherstates_from_text]"
   ]
  },
  {
   "cell_type": "code",
   "execution_count": 38,
   "id": "4247835e-95f7-44ba-8a48-36141a25532d",
   "metadata": {},
   "outputs": [
    {
     "name": "stdout",
     "output_type": "stream",
     "text": [
      "Lorem ipsum dolor sit amet, consectetur adipiscing elit, sed do eiusmod tempor incididunt ut labore et dolore magna aliqua. Ut enim ad minim veniam, quis nostrud exercitation ullamco laboris nisi ut aliquip ex ea commodo consequat. Duis aute irure dolor in reprehenderit in voluptate velit esse cillum dolore eu fugiat nulla pariatur. Excepteur sint occaecat cupidatat non proident, sunt in culpa qui officia deserunt mollit anim id\n"
     ]
    }
   ],
   "source": [
    "print(states_to_text(deciphered_from_text))"
   ]
  },
  {
   "cell_type": "markdown",
   "id": "50a6c4bf-3ebb-424a-ae63-67b32761e122",
   "metadata": {},
   "source": [
    "## Key input...\n",
    "---"
   ]
  },
  {
   "cell_type": "code",
   "execution_count": 39,
   "id": "a9b227f3-12b8-4d22-8230-a7df6bc05391",
   "metadata": {},
   "outputs": [],
   "source": [
    "password_input = \"0123456789abcdef\" # Placeholder for frontend\n",
    "passkey = [ord(char) for char in password_input]"
   ]
  },
  {
   "cell_type": "code",
   "execution_count": 40,
   "id": "4908a432-b631-41e0-a1fc-57ec125a88d1",
   "metadata": {},
   "outputs": [],
   "source": [
    "roundpasskeys = key_expansion(passkey)"
   ]
  },
  {
   "cell_type": "code",
   "execution_count": 41,
   "id": "5517a240-0200-4e31-9beb-1d2c210e9b74",
   "metadata": {},
   "outputs": [
    {
     "name": "stdout",
     "output_type": "stream",
     "text": [
      "[48, 49, 50, 51, 52, 53, 54, 55, 56, 57, 97, 98, 99, 100, 101, 102]\n"
     ]
    }
   ],
   "source": [
    "print(passkey)"
   ]
  },
  {
   "cell_type": "markdown",
   "id": "82220aef-eb29-4725-8cc2-cb4f45a0bd52",
   "metadata": {},
   "source": [
    "*Section yet to be written...*"
   ]
  }
 ],
 "metadata": {
  "kernelspec": {
   "display_name": "Python 3 (ipykernel)",
   "language": "python",
   "name": "python3"
  },
  "language_info": {
   "codemirror_mode": {
    "name": "ipython",
    "version": 3
   },
   "file_extension": ".py",
   "mimetype": "text/x-python",
   "name": "python",
   "nbconvert_exporter": "python",
   "pygments_lexer": "ipython3",
   "version": "3.13.2"
  }
 },
 "nbformat": 4,
 "nbformat_minor": 5
}
