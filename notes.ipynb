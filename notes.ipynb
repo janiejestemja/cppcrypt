{
 "cells": [
  {
   "cell_type": "code",
   "execution_count": 1,
   "id": "27216ca9-96dc-4ecf-a633-29760d303c24",
   "metadata": {},
   "outputs": [],
   "source": [
    "import numpy as np\n",
    "from pyaes import key_expansion, aes_encrypt, aes_decrypt"
   ]
  },
  {
   "cell_type": "code",
   "execution_count": 2,
   "id": "0dfb7925-2503-4de7-9b52-dc801c3ff0eb",
   "metadata": {},
   "outputs": [],
   "source": [
    "key = bytes( [0x00, 0x01, 0x02, 0x03, 0x04, 0x05, 0x06, 0x07, 0x08, 0x09, 0x0a, 0x0b, 0x0c, 0x0d, 0x0e, 0x0f] )"
   ]
  },
  {
   "cell_type": "code",
   "execution_count": 3,
   "id": "ff278510-ae1d-48b7-8738-38b53716e17d",
   "metadata": {},
   "outputs": [],
   "source": [
    "input_state = [\n",
    "    [0x00, 0x44, 0x88, 0xcc],\n",
    "    [0x11, 0x55, 0x99, 0xdd],\n",
    "    [0x22, 0x66, 0xaa, 0xee],\n",
    "    [0x33, 0x77, 0xbb, 0xff],\n",
    "]"
   ]
  },
  {
   "cell_type": "code",
   "execution_count": 4,
   "id": "f17a79e1-d83b-41f3-9a40-f1a74183bac4",
   "metadata": {},
   "outputs": [],
   "source": [
    "def print_state(state, label=\"State\"):\n",
    "\n",
    "    print(f\"{label}: \")\n",
    "    for row in state:\n",
    "        print(\" \".join(f\"{b:02x}\" for b in row))\n",
    "    print()"
   ]
  },
  {
   "cell_type": "code",
   "execution_count": 5,
   "id": "552c232d-dc70-4c41-b9ac-cdfb07f7317b",
   "metadata": {},
   "outputs": [],
   "source": [
    "round_keys = key_expansion(key)"
   ]
  },
  {
   "cell_type": "code",
   "execution_count": 6,
   "id": "e938cf90-46fe-4c4c-8df8-8cff461e13c6",
   "metadata": {},
   "outputs": [
    {
     "name": "stdout",
     "output_type": "stream",
     "text": [
      "Initial State: \n",
      "00 44 88 cc\n",
      "11 55 99 dd\n",
      "22 66 aa ee\n",
      "33 77 bb ff\n",
      "\n"
     ]
    }
   ],
   "source": [
    "print_state(input_state, \"Initial State\")"
   ]
  },
  {
   "cell_type": "code",
   "execution_count": 7,
   "id": "2e078d4e-1c6e-4f26-8bca-742a5f81ebf6",
   "metadata": {},
   "outputs": [],
   "source": [
    "encrypted_state = aes_encrypt(input_state, round_keys)"
   ]
  },
  {
   "cell_type": "code",
   "execution_count": 8,
   "id": "3fd02c9e-3edc-437e-8963-2c2b43a0da61",
   "metadata": {},
   "outputs": [
    {
     "name": "stdout",
     "output_type": "stream",
     "text": [
      "Encrypted State: \n",
      "33 93 bb 88\n",
      "b0 29 64 2d\n",
      "be b5 04 22\n",
      "5b 21 ee 57\n",
      "\n"
     ]
    }
   ],
   "source": [
    "print_state(encrypted_state, \"Encrypted State\")"
   ]
  },
  {
   "cell_type": "code",
   "execution_count": 9,
   "id": "8d43d183-a6b6-4ce2-84eb-8a2fbd16597c",
   "metadata": {},
   "outputs": [],
   "source": [
    "decrypted_state = aes_decrypt(encrypted_state, round_keys)"
   ]
  },
  {
   "cell_type": "code",
   "execution_count": 10,
   "id": "990fb04e-d56c-4bfa-a67d-34b9877d0eac",
   "metadata": {},
   "outputs": [
    {
     "name": "stdout",
     "output_type": "stream",
     "text": [
      "Decrypted State: \n",
      "00 44 88 cc\n",
      "11 55 99 dd\n",
      "22 66 aa ee\n",
      "33 77 bb ff\n",
      "\n"
     ]
    }
   ],
   "source": [
    "print_state(decrypted_state, \"Decrypted State\")"
   ]
  },
  {
   "cell_type": "code",
   "execution_count": null,
   "id": "c9a2a6f9-4fb1-4fdf-adec-2bfa1ac1ac59",
   "metadata": {},
   "outputs": [],
   "source": []
  }
 ],
 "metadata": {
  "kernelspec": {
   "display_name": "Python 3 (ipykernel)",
   "language": "python",
   "name": "python3"
  },
  "language_info": {
   "codemirror_mode": {
    "name": "ipython",
    "version": 3
   },
   "file_extension": ".py",
   "mimetype": "text/x-python",
   "name": "python",
   "nbconvert_exporter": "python",
   "pygments_lexer": "ipython3",
   "version": "3.13.2"
  }
 },
 "nbformat": 4,
 "nbformat_minor": 5
}
